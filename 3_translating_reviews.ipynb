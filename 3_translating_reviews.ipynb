{
 "cells": [
  {
   "cell_type": "markdown",
   "id": "03a19adb-c2db-4be7-92c7-6272b2e0f8f2",
   "metadata": {},
   "source": [
    "# 번역 함수"
   ]
  },
  {
   "cell_type": "markdown",
   "id": "9f646801-487f-4422-8848-f74d84066261",
   "metadata": {},
   "source": [
    "google translate api를 사용했으나 오역이 많아, open api로 프롬프트 생성하여 수행"
   ]
  },
  {
   "cell_type": "code",
   "execution_count": 1,
   "id": "f1c06243-0874-45fe-b25c-7e53f2955c37",
   "metadata": {},
   "outputs": [],
   "source": [
    "import openai"
   ]
  },
  {
   "cell_type": "code",
   "execution_count": 3,
   "id": "4fe6bb79-611a-4d38-aa54-9715c83a498c",
   "metadata": {},
   "outputs": [],
   "source": [
    "from openai import OpenAI\n",
    "client = OpenAI(api_key = openai_api_key)"
   ]
  },
  {
   "cell_type": "code",
   "execution_count": 4,
   "id": "4d609247-3614-414e-bfa8-e720d5de232c",
   "metadata": {},
   "outputs": [],
   "source": [
    "def print_streaming_response(response):\n",
    "    for chunk in response:\n",
    "        delta = chunk.choices[0].delta\n",
    "        if delta.content:\n",
    "            print(delta.content, end=\"\")"
   ]
  },
  {
   "cell_type": "code",
   "execution_count": 5,
   "id": "7d2c6d90-5b22-4606-86c3-f475ebd5ed45",
   "metadata": {},
   "outputs": [],
   "source": [
    "messages = [{\"role\": \"user\", \"content\": \"안녕하세요\"}]\n",
    "response = client.chat.completions.create(\n",
    "    model=\"gpt-4o-mini\",\n",
    "    messages=messages,\n",
    "    stream=True\n",
    ")\n"
   ]
  },
  {
   "cell_type": "code",
   "execution_count": 22,
   "id": "aeac0b92-17cb-4b7a-9c32-35d9925d159d",
   "metadata": {},
   "outputs": [
    {
     "name": "stdout",
     "output_type": "stream",
     "text": [
      "번역 완료: 신촌2호점 -> ./data/translated_신촌2호점.csv\n",
      "번역 완료: 우장산역점 -> ./data/translated_우장산역점.csv\n",
      "번역 완료: 성신여대점 -> ./data/translated_성신여대점.csv\n",
      "번역 완료: 교대역점 -> ./data/translated_교대역점.csv\n",
      "번역 완료: 관악난곡점 -> ./data/translated_관악난곡점.csv\n",
      "번역 완료: 목동남부시장점 -> ./data/translated_목동남부시장점.csv\n",
      "번역 완료: 홍대입구역점 -> ./data/translated_홍대입구역점.csv\n",
      "번역 완료: 구로디지털단지역점 -> ./data/translated_구로디지털단지역점.csv\n",
      "번역 완료: 수유역점 -> ./data/translated_수유역점.csv\n",
      "번역 완료: 이수역점 -> ./data/translated_이수역점.csv\n",
      "번역 완료: 신풍점 -> ./data/translated_신풍점.csv\n",
      "번역 완료: 약수점 -> ./data/translated_약수점.csv\n",
      "번역 완료: 대흥역점 -> ./data/translated_대흥역점.csv\n",
      "번역 완료: 강서홈플러스점 -> ./data/translated_강서홈플러스점.csv\n"
     ]
    }
   ],
   "source": [
    "def request_chat_completion(prompt):\n",
    "    response = client.chat.completions.create(\n",
    "        model=\"gpt-4o\",\n",
    "        messages=[\n",
    "            {\"role\": \"system\", \"content\": \"당신은 한국어 식당 리뷰를 번역하는 영어번역가입니다.\"},\n",
    "            {\"role\": \"user\", \"content\": prompt}\n",
    "        ],\n",
    "        stream = False\n",
    "    )\n",
    "    return response.choices[0].message.content\n",
    "\n",
    "def generate_prompt(review):\n",
    "    prompt = f\"\"\"\n",
    "Translate the following Korean restaurant review into natural English:\n",
    "{review}\n",
    "\"\"\".strip()\n",
    "    return prompt\n",
    "\n",
    "\n",
    "# 리뷰를 번역하여 데이터프레임에 할당하고 저장하는 함수\n",
    "def translate_review(file):\n",
    "    file_path = f\"./data/{file}.csv\"\n",
    "    \n",
    "    # CSV 파일 읽기\n",
    "    df = pd.read_csv(file_path, encoding=\"utf-8\")\n",
    "\n",
    "    # \"translated_review\" 컬럼이 없다면 추가\n",
    "    if \"translated_review\" not in df.columns:\n",
    "        df[\"translated_review\"] = \"\"\n",
    "\n",
    "    # 각 리뷰에 대해 번역 수행\n",
    "    for i in range(len(df)):\n",
    "        review = df.loc[i, \"review_text\"]  # 리뷰 컬럼이 \"review_text\"라고 가정\n",
    "        prompt = generate_prompt(review)  # 번역을 위한 프롬프트 생성\n",
    "        translated_review = request_chat_completion(prompt)  # 번역 수행\n",
    "        df.loc[i, \"translated_review\"] = translated_review  # 번역 결과 추가\n",
    "\n",
    "    # 번역된 데이터프레임을 새로운 파일로 저장\n",
    "    output_path = f\"./data/translated_{file}.csv\"\n",
    "    df.to_csv(output_path, index=False, encoding=\"utf-8-sig\")\n",
    "    print(f\"번역 완료: {file} -> {output_path}\")\n",
    "    return df\n",
    "\n",
    "# 번역할 CSV 파일들의 리스트\n",
    "file_names = ['신촌2호점',\n",
    "              '우장산역점',\n",
    "              '성신여대점',\n",
    "              '교대역점',\n",
    "              '관악난곡점',\n",
    "              '목동남부시장점',\n",
    "              '홍대입구역점',\n",
    "              '구로디지털단지역점',\n",
    "              '수유역점',\n",
    "              '이수역점',\n",
    "              '신풍점',\n",
    "              '약수점',\n",
    "              '대흥역점',\n",
    "              '강서홈플러스점']\n",
    "\n",
    "# 모든 파일에 대해 번역 수행\n",
    "for file_name in file_names:\n",
    "    translate_review(file_name)\n"
   ]
  }
 ],
 "metadata": {
  "kernelspec": {
   "display_name": "Python 3 (ipykernel)",
   "language": "python",
   "name": "python3"
  },
  "language_info": {
   "codemirror_mode": {
    "name": "ipython",
    "version": 3
   },
   "file_extension": ".py",
   "mimetype": "text/x-python",
   "name": "python",
   "nbconvert_exporter": "python",
   "pygments_lexer": "ipython3",
   "version": "3.12.3"
  }
 },
 "nbformat": 4,
 "nbformat_minor": 5
}
