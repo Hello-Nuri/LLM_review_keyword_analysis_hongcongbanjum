{
 "cells": [
  {
   "cell_type": "markdown",
   "id": "1086e2af-90af-49e6-b2fd-6ec836326e35",
   "metadata": {},
   "source": [
    "### Open ai 사용하여 긍정 부정 예측하기"
   ]
  },
  {
   "cell_type": "code",
   "execution_count": 1,
   "id": "c2bba7e1-ec13-4245-ae48-bda4bd433d95",
   "metadata": {},
   "outputs": [],
   "source": [
    "# open ai 연결하기"
   ]
  },
  {
   "cell_type": "code",
   "execution_count": 5,
   "id": "c38df848-1b23-4296-a382-b4568761d2f8",
   "metadata": {},
   "outputs": [],
   "source": [
    "import openai"
   ]
  },
  {
   "cell_type": "code",
   "execution_count": 7,
   "id": "0d1f796f-3a11-47ab-93ea-ec35621292a8",
   "metadata": {},
   "outputs": [],
   "source": [
    "from openai import OpenAI\n",
    "client = OpenAI(api_key = openai_api_key)"
   ]
  },
  {
   "cell_type": "code",
   "execution_count": 8,
   "id": "667f62ef-d9a0-42d3-87dd-e61f31ecd7e7",
   "metadata": {},
   "outputs": [],
   "source": [
    "def print_streaming_response(response):\n",
    "    for chunk in response:\n",
    "        delta = chunk.choices[0].delta\n",
    "        if delta.content:\n",
    "            print(delta.content, end=\"\")"
   ]
  },
  {
   "cell_type": "code",
   "execution_count": 9,
   "id": "5ee7aa82-cf8c-4cba-9809-bf636b3303c9",
   "metadata": {},
   "outputs": [
    {
     "name": "stdout",
     "output_type": "stream",
     "text": [
      "안녕하세요! 어떻게 도와드릴까요?"
     ]
    }
   ],
   "source": [
    "messages = [{\"role\": \"user\", \"content\": \"안녕하세요\"}]\n",
    "response = client.chat.completions.create(\n",
    "    model=\"gpt-4o-mini\",\n",
    "    messages=messages,\n",
    "    stream=True\n",
    ")\n",
    "print_streaming_response(response)"
   ]
  },
  {
   "cell_type": "code",
   "execution_count": 48,
   "id": "8d220a5a-b4a3-4e58-9496-bd06bc71d213",
   "metadata": {},
   "outputs": [],
   "source": [
    "# 프롬프트 역할부여하기"
   ]
  },
  {
   "cell_type": "code",
   "execution_count": 148,
   "id": "3ac3a712-f8c2-4071-97bd-83733e78659c",
   "metadata": {},
   "outputs": [],
   "source": [
    "def request_chat_completion(prompt):\n",
    "    response = client.chat.completions.create(\n",
    "        model=\"gpt-4o-mini\",\n",
    "        messages=[\n",
    "            {\"role\": \"system\", \"content\": \"당신은 고객 리뷰 전문 분석가입니다.\"},\n",
    "            {\"role\": \"user\", \"content\": prompt}\n",
    "        ],\n",
    "        stream = False\n",
    "    )\n",
    "    return response.choices[0].message.content"
   ]
  },
  {
   "cell_type": "code",
   "execution_count": 149,
   "id": "f3a33172-2452-40ad-928b-daa029b10d34",
   "metadata": {},
   "outputs": [
    {
     "data": {
      "text/plain": [
       "'중립'"
      ]
     },
     "execution_count": 149,
     "metadata": {},
     "output_type": "execute_result"
    }
   ],
   "source": [
    "request_chat_completion(prompt)"
   ]
  },
  {
   "cell_type": "code",
   "execution_count": 145,
   "id": "8fe25080-67a9-44c4-94fa-2c9d3498f0bb",
   "metadata": {
    "scrolled": true
   },
   "outputs": [
    {
     "name": "stdout",
     "output_type": "stream",
     "text": [
      "중립\n"
     ]
    }
   ],
   "source": [
    "print(response.choices[0].message.content)"
   ]
  },
  {
   "cell_type": "code",
   "execution_count": null,
   "id": "5f7fcb93-d92e-4668-90d5-8f8c46cdbe90",
   "metadata": {},
   "outputs": [],
   "source": [
    "def response_edditor(response):\n",
    "    "
   ]
  },
  {
   "cell_type": "code",
   "execution_count": 142,
   "id": "59068d9a-482d-4498-8c69-ae936a08ddbd",
   "metadata": {},
   "outputs": [],
   "source": [
    "def generate_prompt(review):\n",
    "    prompt = f\"\"\"\n",
    "다음 식당의 리뷰 리스트를 줄거야. 고객의 감정을 문맥을 파악해서 대답해.\n",
    "대답은 다른 추가적인 설명 없이 '긍정'인 경우 '1', 중립은 '0','부정'은 '-1'로 대답해줘.\n",
    "\n",
    "---\n",
    "리뷰: {review}\n",
    "---\n",
    "\"\"\".strip()\n",
    "    return prompt"
   ]
  },
  {
   "cell_type": "code",
   "execution_count": 123,
   "id": "e5b3f248-a579-462b-bea2-e7653cf32854",
   "metadata": {},
   "outputs": [],
   "source": [
    "# 테스트"
   ]
  },
  {
   "cell_type": "code",
   "execution_count": 143,
   "id": "f9fb798f-d014-419e-8f44-e871fde4aa0a",
   "metadata": {},
   "outputs": [],
   "source": [
    "prompt = generate_prompt(\n",
    "    review= df[\"review_text\"][2]\n",
    ")"
   ]
  },
  {
   "cell_type": "code",
   "execution_count": 147,
   "id": "948ffc1a-6066-4990-9be5-4b1529a88b1b",
   "metadata": {},
   "outputs": [],
   "source": [
    "response = request_chat_completion(prompt)"
   ]
  },
  {
   "cell_type": "code",
   "execution_count": 177,
   "id": "8e95a56c-ba7b-4edb-b7a9-314d64d62575",
   "metadata": {},
   "outputs": [],
   "source": [
    "# 100개 테스트 샘플\n",
    "df_review = pd.read_csv(\"/Users/nuri.park/Desktop/multicampus/data_analytics_camp_9th/Nuri_project_folder/semi_project_2_0808/kakaomap_review_crawling/data/kakao_review_first_preprocessed.csv\")\n",
    "\n",
    "df_review_sample = df_review[1301:]\n",
    "\n",
    "def reviewloader():\n",
    "    results = []\n",
    "    for index, row in df_review_sample.iterrows():\n",
    "        review = row[\"review_text\"]\n",
    "        prompt = generate_prompt(review)\n",
    "        sentiment = request_chat_completion(prompt)\n",
    "        results.append(sentiment.strip())\n",
    "    return results"
   ]
  },
  {
   "cell_type": "code",
   "execution_count": 178,
   "id": "a9782185-00c2-4e55-91e3-9f7dae226436",
   "metadata": {},
   "outputs": [],
   "source": [
    "sentiments = reviewloader()"
   ]
  },
  {
   "cell_type": "code",
   "execution_count": 179,
   "id": "83948752-e1e4-4bdc-a9d1-268c07330b1b",
   "metadata": {},
   "outputs": [
    {
     "name": "stderr",
     "output_type": "stream",
     "text": [
      "/var/folders/ly/7phrswwd4gzcgyt5t5p35nqw0000gn/T/ipykernel_21358/3454683992.py:1: SettingWithCopyWarning: \n",
      "A value is trying to be set on a copy of a slice from a DataFrame.\n",
      "Try using .loc[row_indexer,col_indexer] = value instead\n",
      "\n",
      "See the caveats in the documentation: https://pandas.pydata.org/pandas-docs/stable/user_guide/indexing.html#returning-a-view-versus-a-copy\n",
      "  df_review_sample['sentiment'] = sentiments\n"
     ]
    }
   ],
   "source": [
    "df_review_sample['sentiment'] = sentiments"
   ]
  },
  {
   "cell_type": "code",
   "execution_count": 180,
   "id": "3846de22-8cfc-45e8-abfb-a344985fba0b",
   "metadata": {},
   "outputs": [],
   "source": [
    "df_review_sample.to_csv(\"/Users/nuri.park/Desktop/multicampus/data_analytics_camp_9th/Nuri_project_folder/semi_project_2_0808/kakaomap_review_crawling/data/kakao_review_with_sentiment5.csv\", index=False)"
   ]
  },
  {
   "cell_type": "code",
   "execution_count": null,
   "id": "292a9d8c-d699-4cb4-9fc3-ba3c07e6a2c1",
   "metadata": {},
   "outputs": [],
   "source": []
  },
  {
   "cell_type": "markdown",
   "id": "c6bd49fe-e50a-4b57-ab0e-c006ac16686e",
   "metadata": {},
   "source": [
    "### KAKAO 긍정부정분석 전처리"
   ]
  },
  {
   "cell_type": "code",
   "execution_count": 61,
   "id": "107e4c24-cff3-4132-9ef8-0db8611671bc",
   "metadata": {},
   "outputs": [],
   "source": [
    "import pandas as pd\n",
    "\n",
    "df = pd.read_csv(\"/Users/nuri.park/Desktop/multicampus/data_analytics_camp_9th/Nuri_project_folder/semi_project_2_0808/kakaomap_review_crawling/data/kakao_reviews_second_preprocessed.csv\")"
   ]
  },
  {
   "cell_type": "code",
   "execution_count": 62,
   "id": "5ef77cf7-8fc2-42fa-ac6a-94688d52003f",
   "metadata": {},
   "outputs": [],
   "source": [
    "df_A= df.drop([\"user_star2\"],axis =1)"
   ]
  },
  {
   "cell_type": "code",
   "execution_count": 63,
   "id": "3f2c2287-6f88-4593-84db-763045660707",
   "metadata": {},
   "outputs": [
    {
     "data": {
      "text/html": [
       "<div>\n",
       "<style scoped>\n",
       "    .dataframe tbody tr th:only-of-type {\n",
       "        vertical-align: middle;\n",
       "    }\n",
       "\n",
       "    .dataframe tbody tr th {\n",
       "        vertical-align: top;\n",
       "    }\n",
       "\n",
       "    .dataframe thead th {\n",
       "        text-align: right;\n",
       "    }\n",
       "</style>\n",
       "<table border=\"1\" class=\"dataframe\">\n",
       "  <thead>\n",
       "    <tr style=\"text-align: right;\">\n",
       "      <th></th>\n",
       "      <th>platform</th>\n",
       "      <th>store_name</th>\n",
       "      <th>review_text</th>\n",
       "      <th>user_star</th>\n",
       "      <th>review_date</th>\n",
       "      <th>sentiment</th>\n",
       "    </tr>\n",
       "  </thead>\n",
       "  <tbody>\n",
       "    <tr>\n",
       "      <th>0</th>\n",
       "      <td>kakao_map</td>\n",
       "      <td>홍콩반점0410 가산디지털단지 역점</td>\n",
       "      <td>맛도 서비스도 매우만족임</td>\n",
       "      <td>5</td>\n",
       "      <td>2024-04-14 00:00:00</td>\n",
       "      <td>1</td>\n",
       "    </tr>\n",
       "    <tr>\n",
       "      <th>1</th>\n",
       "      <td>kakao_map</td>\n",
       "      <td>홍콩반점0410 대흥역점</td>\n",
       "      <td>방문해서 먹었는데 탕수육이 진짜 맛있네요 부드러우면서 쫄깃했어요</td>\n",
       "      <td>4</td>\n",
       "      <td>2024-08-04 00:00:00</td>\n",
       "      <td>1</td>\n",
       "    </tr>\n",
       "    <tr>\n",
       "      <th>2</th>\n",
       "      <td>kakao_map</td>\n",
       "      <td>홍콩반점0410 대흥역점</td>\n",
       "      <td>탕수육 쟁반짜장 고추짬뽕</td>\n",
       "      <td>5</td>\n",
       "      <td>2024-07-29 00:00:00</td>\n",
       "      <td>중립</td>\n",
       "    </tr>\n",
       "    <tr>\n",
       "      <th>3</th>\n",
       "      <td>kakao_map</td>\n",
       "      <td>홍콩반점0410 대흥역점</td>\n",
       "      <td>짜장이 묽은 편이에요. 일반 짜장과 고기 짜장, 짬뽕밥 주문했는데 짜장은..흠......</td>\n",
       "      <td>2</td>\n",
       "      <td>2024-07-28 00:00:00</td>\n",
       "      <td>0</td>\n",
       "    </tr>\n",
       "    <tr>\n",
       "      <th>4</th>\n",
       "      <td>kakao_map</td>\n",
       "      <td>홍콩반점0410 대흥역점</td>\n",
       "      <td>NaN</td>\n",
       "      <td>5</td>\n",
       "      <td>2024-07-25 00:00:00</td>\n",
       "      <td>중립</td>\n",
       "    </tr>\n",
       "    <tr>\n",
       "      <th>...</th>\n",
       "      <td>...</td>\n",
       "      <td>...</td>\n",
       "      <td>...</td>\n",
       "      <td>...</td>\n",
       "      <td>...</td>\n",
       "      <td>...</td>\n",
       "    </tr>\n",
       "    <tr>\n",
       "      <th>1688</th>\n",
       "      <td>kakao_map</td>\n",
       "      <td>홍콩반점0410 영등포역점</td>\n",
       "      <td>여긴 주방장도 알바씁니까? 맨정신으로 어떻게 이딴 음식을 내줄수 있는건지 모르겠네 ...</td>\n",
       "      <td>1</td>\n",
       "      <td>2020-01-18</td>\n",
       "      <td>0</td>\n",
       "    </tr>\n",
       "    <tr>\n",
       "      <th>1689</th>\n",
       "      <td>kakao_map</td>\n",
       "      <td>홍콩반점0410 영등포역점</td>\n",
       "      <td>홍콩반점 좋아하는데 여러지점중 제일 별로였어요 면은 불었고 짜장은 산도가 있는맛 3...</td>\n",
       "      <td>2</td>\n",
       "      <td>2019-09-26</td>\n",
       "      <td>0</td>\n",
       "    </tr>\n",
       "    <tr>\n",
       "      <th>1690</th>\n",
       "      <td>kakao_map</td>\n",
       "      <td>홍콩반점0410 영등포역점</td>\n",
       "      <td>NaN</td>\n",
       "      <td>5</td>\n",
       "      <td>2019-02-04</td>\n",
       "      <td>중립</td>\n",
       "    </tr>\n",
       "    <tr>\n",
       "      <th>1691</th>\n",
       "      <td>kakao_map</td>\n",
       "      <td>홍콩반점0410 영등포역점</td>\n",
       "      <td>서빙하시는 남자분 키는 조금 작지만 귀여운 외모에 완전 친절하심.</td>\n",
       "      <td>5</td>\n",
       "      <td>2019-01-07</td>\n",
       "      <td>1</td>\n",
       "    </tr>\n",
       "    <tr>\n",
       "      <th>1692</th>\n",
       "      <td>kakao_map</td>\n",
       "      <td>홍콩반점0410 영등포역점</td>\n",
       "      <td>냉짬뽕 시원하고 맛있었어요!!!!</td>\n",
       "      <td>5</td>\n",
       "      <td>2018-07-31</td>\n",
       "      <td>1</td>\n",
       "    </tr>\n",
       "  </tbody>\n",
       "</table>\n",
       "<p>1693 rows × 6 columns</p>\n",
       "</div>"
      ],
      "text/plain": [
       "       platform           store_name  \\\n",
       "0     kakao_map  홍콩반점0410 가산디지털단지 역점   \n",
       "1     kakao_map        홍콩반점0410 대흥역점   \n",
       "2     kakao_map        홍콩반점0410 대흥역점   \n",
       "3     kakao_map        홍콩반점0410 대흥역점   \n",
       "4     kakao_map        홍콩반점0410 대흥역점   \n",
       "...         ...                  ...   \n",
       "1688  kakao_map       홍콩반점0410 영등포역점   \n",
       "1689  kakao_map       홍콩반점0410 영등포역점   \n",
       "1690  kakao_map       홍콩반점0410 영등포역점   \n",
       "1691  kakao_map       홍콩반점0410 영등포역점   \n",
       "1692  kakao_map       홍콩반점0410 영등포역점   \n",
       "\n",
       "                                            review_text  user_star  \\\n",
       "0                                         맛도 서비스도 매우만족임          5   \n",
       "1                   방문해서 먹었는데 탕수육이 진짜 맛있네요 부드러우면서 쫄깃했어요          4   \n",
       "2                                         탕수육 쟁반짜장 고추짬뽕          5   \n",
       "3     짜장이 묽은 편이에요. 일반 짜장과 고기 짜장, 짬뽕밥 주문했는데 짜장은..흠......          2   \n",
       "4                                                   NaN          5   \n",
       "...                                                 ...        ...   \n",
       "1688  여긴 주방장도 알바씁니까? 맨정신으로 어떻게 이딴 음식을 내줄수 있는건지 모르겠네 ...          1   \n",
       "1689  홍콩반점 좋아하는데 여러지점중 제일 별로였어요 면은 불었고 짜장은 산도가 있는맛 3...          2   \n",
       "1690                                                NaN          5   \n",
       "1691               서빙하시는 남자분 키는 조금 작지만 귀여운 외모에 완전 친절하심.          5   \n",
       "1692                                 냉짬뽕 시원하고 맛있었어요!!!!          5   \n",
       "\n",
       "              review_date sentiment  \n",
       "0     2024-04-14 00:00:00         1  \n",
       "1     2024-08-04 00:00:00         1  \n",
       "2     2024-07-29 00:00:00        중립  \n",
       "3     2024-07-28 00:00:00         0  \n",
       "4     2024-07-25 00:00:00        중립  \n",
       "...                   ...       ...  \n",
       "1688           2020-01-18         0  \n",
       "1689           2019-09-26         0  \n",
       "1690           2019-02-04        중립  \n",
       "1691           2019-01-07         1  \n",
       "1692           2018-07-31         1  \n",
       "\n",
       "[1693 rows x 6 columns]"
      ]
     },
     "execution_count": 63,
     "metadata": {},
     "output_type": "execute_result"
    }
   ],
   "source": [
    "df_A"
   ]
  },
  {
   "cell_type": "code",
   "execution_count": 64,
   "id": "8c05573a-6682-4137-8693-3f68cf78c9ad",
   "metadata": {},
   "outputs": [],
   "source": [
    "df_A.loc[:100, 'review_date'] = pd.to_datetime(df_A.loc[:100, 'review_date'], errors='coerce', format='%Y-%m-%d %H:%M:%S').dt.date"
   ]
  },
  {
   "cell_type": "code",
   "execution_count": 65,
   "id": "55ae3565-822a-4dec-a2a0-80a4cf97d664",
   "metadata": {},
   "outputs": [],
   "source": [
    "df_A.loc[(df_A['sentiment']=='긍정'),'sentiment']='1'"
   ]
  },
  {
   "cell_type": "code",
   "execution_count": 66,
   "id": "4819625a-54fe-4bd1-a24d-0ac9e482487e",
   "metadata": {},
   "outputs": [],
   "source": [
    "df_A.loc[(df_A['sentiment']=='중립'),'sentiment']='0'"
   ]
  },
  {
   "cell_type": "code",
   "execution_count": 67,
   "id": "9aaeaead-4f3a-43c7-b47d-7de6f1eff5c5",
   "metadata": {},
   "outputs": [],
   "source": [
    "df_A.loc[(df_A['sentiment']=='0'),'sentiment']='-1'"
   ]
  },
  {
   "cell_type": "code",
   "execution_count": 68,
   "id": "a900d0a4-43d5-42c5-bfa8-a058e8e2d140",
   "metadata": {},
   "outputs": [],
   "source": [
    "# 중립으로 표기되고, 리뷰텍스트가 없는데 별점이 5점인 것\n",
    "df_A.loc[(df_A['sentiment']== '0') & (df_A['review_text'].isna()) & (df_A['user_star']==5),'sentiment']='1'"
   ]
  },
  {
   "cell_type": "code",
   "execution_count": 69,
   "id": "051616a8-3296-4aad-8421-95c00f5dd6a0",
   "metadata": {},
   "outputs": [],
   "source": [
    "# 중립으로 표기되고, 리뷰텍스트가 없는데 별점이 4점인 것\n",
    "df_A.loc[(df_A['sentiment']== '0') & (df_A['review_text'].isna()) & (df_A['user_star']>3),'sentiment']='1'"
   ]
  },
  {
   "cell_type": "code",
   "execution_count": 70,
   "id": "1e696e0c-1a54-4c43-b48e-c1654c1a6ae4",
   "metadata": {},
   "outputs": [],
   "source": [
    "# 중립으로 표기되고, 리뷰텍스트가 없는데 별점이 3점 미만인 것\n",
    "df_A.loc[(df_A['sentiment']=='0')&(df_A['review_text'].isna()) &(df_A['user_star']<3),'sentiment']='0'"
   ]
  },
  {
   "cell_type": "code",
   "execution_count": 71,
   "id": "e82ab3c3-f9a7-4e82-b7ff-ead8878e75ef",
   "metadata": {},
   "outputs": [],
   "source": [
    "# 중립으로 표기되고, 리뷰텍스트가 있는데, 별점이 3점 미만인 것\n",
    "df_A.loc[(df_A['sentiment']=='0')&(df_A['review_text'].notna()) &(df_A['user_star']<3),'sentiment']='0'"
   ]
  },
  {
   "cell_type": "code",
   "execution_count": 72,
   "id": "37bcce54-8397-4847-9b8c-a098cf70c92e",
   "metadata": {},
   "outputs": [],
   "source": [
    "# 긍정으로 표기되고, 별점이 3점 미만인 곳 (비꼬는 리뷰)\n",
    "df_A.loc[(df_A['sentiment']=='1')&(df_A['user_star']<3),'sentiment']='0'"
   ]
  },
  {
   "cell_type": "code",
   "execution_count": 73,
   "id": "c74239d7-e785-4d2b-96eb-adda0f5a21eb",
   "metadata": {},
   "outputs": [],
   "source": [
    "pd.set_option('display.max_rows', None)"
   ]
  },
  {
   "cell_type": "code",
   "execution_count": 74,
   "id": "c6eea935-0459-430b-9843-847b7f61100e",
   "metadata": {},
   "outputs": [],
   "source": [
    "# 중립으로 표시되고 별점이 3점미만인 것 > 부정\n",
    "df_A.loc[(df_A['sentiment']=='0')&(df_A['user_star']<4),'sentiment']=\"-1\""
   ]
  },
  {
   "cell_type": "code",
   "execution_count": 75,
   "id": "b81d25b3-58f3-4285-b559-61fa60d38f0d",
   "metadata": {},
   "outputs": [],
   "source": [
    "df_A.loc[[1648,1580,1557,1538,1491,1488,1484,1417,1411,1397,1183,1165,1127,1100,898], 'sentiment'] = '1'"
   ]
  },
  {
   "cell_type": "code",
   "execution_count": 76,
   "id": "12e328e0-e717-4569-987a-e4ca154ac71a",
   "metadata": {},
   "outputs": [],
   "source": [
    "df_A.loc[[1649,1471,1466,1252,1036,1184,656,372,1655,890,1172,607,385,24], 'sentiment'] = '1'"
   ]
  },
  {
   "cell_type": "code",
   "execution_count": 77,
   "id": "145e6f75-d8cf-4566-88f5-91c77e054e96",
   "metadata": {},
   "outputs": [],
   "source": [
    "df_A['review_length'] = df_A['review_text'].str.len()"
   ]
  },
  {
   "cell_type": "code",
   "execution_count": 78,
   "id": "dc3c4055-9187-4630-8df8-c3533681ec98",
   "metadata": {},
   "outputs": [
    {
     "data": {
      "text/plain": [
       "1658.0"
      ]
     },
     "execution_count": 78,
     "metadata": {},
     "output_type": "execute_result"
    }
   ],
   "source": [
    "df_A['review_length'].max()"
   ]
  },
  {
   "cell_type": "code",
   "execution_count": 79,
   "id": "e5bc81ef-97c1-4b8d-b0b2-d67937b2801b",
   "metadata": {},
   "outputs": [
    {
     "data": {
      "text/plain": [
       "count    1489.000000\n",
       "mean       71.749496\n",
       "std        90.055052\n",
       "min         1.000000\n",
       "25%        21.000000\n",
       "50%        47.000000\n",
       "75%        89.000000\n",
       "max      1658.000000\n",
       "Name: review_length, dtype: float64"
      ]
     },
     "execution_count": 79,
     "metadata": {},
     "output_type": "execute_result"
    }
   ],
   "source": [
    "df_A['review_length'].describe()"
   ]
  },
  {
   "cell_type": "code",
   "execution_count": 80,
   "id": "406122e8-16da-4af9-87b4-6b9ac11cad4f",
   "metadata": {},
   "outputs": [],
   "source": [
    "df_A = df_A.rename(columns={'sentiment': 'classification_result'})"
   ]
  },
  {
   "cell_type": "code",
   "execution_count": 82,
   "id": "fb4d6193-783b-4a05-a48e-8187ba0f78f7",
   "metadata": {},
   "outputs": [],
   "source": [
    "df_A.to_csv(\"/Users/nuri.park/Desktop/multicampus/data_analytics_camp_9th/Nuri_project_folder/semi_project_2_0808/kakaomap_review_crawling/data/kakao_thired_preprocessed.csv\", index=False)"
   ]
  },
  {
   "cell_type": "code",
   "execution_count": 50,
   "id": "ba52c8de-d7da-4295-a464-14c2d0ef4039",
   "metadata": {},
   "outputs": [
    {
     "data": {
      "image/png": "[encoded data removed]",
      "text/plain": [
       "<Figure size 1000x600 with 1 Axes>"
      ]
     },
     "metadata": {},
     "output_type": "display_data"
    }
   ],
   "source": [
    "# 리뷰 길이분포\n",
    "import matplotlib.pyplot as plt\n",
    "import numpy as np\n",
    "\n",
    "#사분위 수 계산\n",
    "q1 = df_A['review_length'].quantile(0.25)\n",
    "median = df_A['review_length'].median()\n",
    "q3 = df_A['review_length'].quantile(0.75)\n",
    "\n",
    "\n",
    "plt.figure(figsize=(10, 6))\n",
    "plt.hist(df_A['review_length'].dropna(), bins=np.arange(0,1500,20), edgecolor='black')\n",
    "\n",
    "# 사분위수 선 그리기\n",
    "plt.axvline(q1, color='red', linestyle='--', linewidth=1.5, label=f'Q1: {q1}')\n",
    "plt.axvline(median, color='green', linestyle='-', linewidth=1.5, label=f'Median: {median}')\n",
    "plt.axvline(q3, color='red', linestyle='--', linewidth=1.5, label=f'Q3: {q3}')\n",
    "\n",
    "plt.title('Distribution of Review Lengths with Quartiles')\n",
    "plt.xlabel('Review Length')\n",
    "plt.ylabel('Frequency')\n",
    "plt.show()"
   ]
  }
 ],
 "metadata": {
  "kernelspec": {
   "display_name": "Python 3 (ipykernel)",
   "language": "python",
   "name": "python3"
  },
  "language_info": {
   "codemirror_mode": {
    "name": "ipython",
    "version": 3
   },
   "file_extension": ".py",
   "mimetype": "text/x-python",
   "name": "python",
   "nbconvert_exporter": "python",
   "pygments_lexer": "ipython3",
   "version": "3.12.3"
  }
 },
 "nbformat": 4,
 "nbformat_minor": 5
}
